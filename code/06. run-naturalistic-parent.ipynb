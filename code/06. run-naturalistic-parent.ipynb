{
 "cells": [
  {
   "cell_type": "code",
   "execution_count": null,
   "id": "e2509bda",
   "metadata": {},
   "outputs": [],
   "source": [
    "# User-defined variables\n",
    "work_dir = '/Users/Tem/Documents/naturalistic-threat-ptsd'\n",
    "npy_dir = f\"{work_dir}/data/neural-naturalistic/niftis/masked/subcort-harvard-oxford-6mm\" #directory housing masked npy arrays\n",
    "mask_dir = f\"{work_dir}/masks/subcort-harvard-oxford\"\n",
    "nPerms = 10000\n",
    "trim_TRs = 4 #number of TRs to trim from beginning and end of functional scan (separate from hemodynamic adjustment)"
   ]
  },
  {
   "cell_type": "code",
   "execution_count": null,
   "id": "29844cd6",
   "metadata": {},
   "outputs": [],
   "source": [
    "# Import packages\n",
    "import warnings\n",
    "warnings.filterwarnings(\"ignore\")\n",
    "import os\n",
    "import numpy as np\n",
    "import pandas as pd\n",
    "from scipy import stats\n",
    "from scipy.stats import levene, mannwhitneyu\n",
    "import matplotlib.pyplot as plt\n",
    "from matplotlib import gridspec\n",
    "import seaborn as sns\n",
    "from scipy.stats import iqr\n",
    "from statsmodels.formula.api import ols\n",
    "import statsmodels.api as sm\n",
    "from datetime import datetime\n",
    "import random\n",
    "from sklearn.metrics import pairwise_distances\n",
    "from scipy.stats import rankdata\n",
    "from nltools.data import Adjacency\n",
    "from statsmodels.stats.multitest import fdrcorrection\n",
    "from matplotlib import gridspec"
   ]
  },
  {
   "cell_type": "code",
   "execution_count": null,
   "id": "aa9ef6d4",
   "metadata": {},
   "outputs": [],
   "source": [
    "# Load movie metadata \n",
    "movie_metadata = pd.read_csv(f\"{work_dir}/data/task/stim-metadata-naturalistic.csv\") \n",
    "movie_metadata['Start_TR'][0] = movie_metadata['Start_TR'][0] + trim_TRs\n",
    "movie_metadata['Stop_TR'][len(movie_metadata) - 1] = movie_metadata['Stop_TR'][len(movie_metadata) - 1] - trim_TRs\n",
    "movie_metadata['Scene_Length'] = movie_metadata['Stop_TR'] - movie_metadata['Start_TR']\n",
    "\n",
    "nScenes = len(movie_metadata)\n",
    "movie_TRs = [list(range(movie_metadata['Start_TR'][i], movie_metadata['Stop_TR'][i])) for i in range(0, nScenes)]"
   ]
  },
  {
   "cell_type": "code",
   "execution_count": null,
   "id": "d1dd8e31",
   "metadata": {},
   "outputs": [],
   "source": [
    "# Load and define participant data\n",
    "symptom_labels = ['Re-experiencing', 'Avoidance-Numbing', 'Hyperarousal']\n",
    "CAPS_data = pd.read_csv(f\"{work_dir}/data/subs/CAPS.csv\")\n",
    "cohort_IDs = pd.read_csv(f\"{work_dir}/data/subs/cohort_IDs.csv\")\n",
    "\n",
    "# Load ROI labels\n",
    "ROI_labels = pd.read_csv(f\"{mask_dir}/ROI-labels.csv\") #directory housing masks & labels\n",
    "\n",
    "# Define n's\n",
    "n_regions = len(ROI_labels)\n",
    "nCohort = len(cohort_IDs)"
   ]
  },
  {
   "cell_type": "code",
   "execution_count": null,
   "id": "56e22774",
   "metadata": {},
   "outputs": [],
   "source": [
    "# Loop through ROIs to calculate interSC, classification, and correlation with symptoms using child script\n",
    "counter = 0\n",
    "for ROI_no in range(n_regions):\n",
    "    disp_name = ROI_labels['label'][ROI_no]\n",
    "    ROI_ID = ROI_labels['index'][ROI_no]\n",
    "    cROI = f\"HO_{ROI_ID}\"\n",
    "    print(f\"Running Harvard-Oxford ROI #{ROI_ID}, {ROI_labels['label'][counter]}...\")\n",
    "    startTime = datetime.now()\n",
    "    \n",
    "    %run './07. run-naturalistic-child.ipynb'\n",
    "    ROI_values = pd.Series(ROI_values, index = ROI_value_labels)              \n",
    "    \n",
    "    if counter == 0:\n",
    "        all_ROI_values = pd.DataFrame(columns = ROI_value_labels)\n",
    "        all_ROI_values = all_ROI_values.append(ROI_values, ignore_index = True)\n",
    "    else: \n",
    "        all_ROI_values = all_ROI_values.append(ROI_values, ignore_index = True)\n",
    "        \n",
    "    print(f\"Runtime for ROI #{ROI_ID}: {datetime.now() - startTime}\\n\")    \n",
    "    counter = counter + 1"
   ]
  },
  {
   "cell_type": "code",
   "execution_count": null,
   "id": "2cb8049d",
   "metadata": {},
   "outputs": [],
   "source": [
    "all_ROI_values.insert(0, 'ROI', ROI_labels['label'])\n",
    "date_string = datetime.now().strftime('%Y_%m_%d_%H_%M_%S')\n",
    "all_ROI_values.to_csv(f\"{work_dir}/data/tables/naturalistic-{nPerms}_perms-{date_string}.csv\", index = False)\n",
    "all_ROI_values"
   ]
  }
 ],
 "metadata": {
  "kernelspec": {
   "display_name": "Python 3 (ipykernel)",
   "language": "python",
   "name": "python3"
  },
  "language_info": {
   "codemirror_mode": {
    "name": "ipython",
    "version": 3
   },
   "file_extension": ".py",
   "mimetype": "text/x-python",
   "name": "python",
   "nbconvert_exporter": "python",
   "pygments_lexer": "ipython3",
   "version": "3.8.10"
  }
 },
 "nbformat": 4,
 "nbformat_minor": 5
}
