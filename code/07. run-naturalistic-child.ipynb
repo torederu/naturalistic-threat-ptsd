{
 "cells": [
  {
   "cell_type": "markdown",
   "id": "5ea84ac3",
   "metadata": {},
   "source": [
    "## Inter-subject correlation"
   ]
  },
  {
   "cell_type": "code",
   "execution_count": null,
   "id": "baaa054e",
   "metadata": {},
   "outputs": [],
   "source": [
    "# Define function that calculates spatial interSC\n",
    "def calc_spatial_interSC(group_data):\n",
    "\n",
    "    nGroup = group_data.shape[2]\n",
    "    \n",
    "    group_ByScene = np.zeros((nVoxels, nScenes, nGroup))\n",
    "\n",
    "    for i in range(0, nScenes):\n",
    "        scene_TRs = (movie_TRs[i])\n",
    "        scene_TRs = [x - 1 for x in scene_TRs] \n",
    "        group_ByScene[:,i,:] = np.mean(group_data[:, scene_TRs, :], axis = 1)\n",
    "    \n",
    "    subs = np.arange(0, nGroup)\n",
    "    group_heldout = np.zeros((nVoxels, nScenes, nGroup))\n",
    "    \n",
    "    for i in subs:\n",
    "        sel_subs = subs[subs!= i]\n",
    "        group_heldout[:, :, i] = np.mean(group_ByScene[:, :, sel_subs], axis = 2)\n",
    "    \n",
    "    if shuffle == 1:\n",
    "        shuff_scene = list(range(nScenes))\n",
    "        random.shuffle(shuff_scene)\n",
    "        group_ByScene = group_ByScene[:, shuff_scene, :] \n",
    "        \n",
    "    full_interSC_group = np.zeros((nScenes, nGroup))\n",
    "    group_median_nonmatch = np.zeros(nGroup)\n",
    "\n",
    "    diag_mask = np.ones((nScenes, nScenes), dtype = bool)\n",
    "    np.fill_diagonal(diag_mask, False)\n",
    "    div_by = len(diag_mask)\n",
    "\n",
    "    for i in range(nGroup):\n",
    "        sub_mat = np.corrcoef(group_ByScene[:,:,i], group_heldout[:,:,i], rowvar = False)\n",
    "        sub_mat = sub_mat[div_by:, :div_by]\n",
    "        full_interSC_group[:, i] = np.diagonal(sub_mat)\n",
    "        group_median_nonmatch[i] = np.median(sub_mat[diag_mask])\n",
    "    \n",
    "    return full_interSC_group, group_ByScene, group_median_nonmatch"
   ]
  },
  {
   "cell_type": "code",
   "execution_count": null,
   "id": "c982f4bb",
   "metadata": {},
   "outputs": [],
   "source": [
    "# Compute ROI interSC and p-value\n",
    "shuffle = 0\n",
    "ROI_data = np.load(f\"{npy_dir}/{cROI}_6mm_data.npy\")\n",
    "nVoxels = ROI_data.shape[0]\n",
    "full_matching_isc, ROI_ByScene, isc_nonmatch = calc_spatial_interSC(ROI_data)\n",
    "isc_matching = np.median(full_matching_isc, axis = 0)\n",
    "\n",
    "actual_diff = np.median(isc_matching - isc_nonmatch)\n",
    "null_dist_diff = np.zeros(nPerms)\n",
    "\n",
    "shuffle = 1\n",
    "for k in range(nPerms):\n",
    "    shuff_full_interSC, shuff_ByScene, shuff_nonmatch = calc_spatial_interSC(ROI_data)\n",
    "    shuff_interSC = np.median(shuff_full_interSC, axis = 0)\n",
    "    \n",
    "    null_dist_diff[k] = np.median(shuff_interSC - shuff_nonmatch)\n",
    "    perms_above_frac = (len(null_dist_diff[null_dist_diff > actual_diff]) + 1) / (nPerms + 1)\n",
    "    p_val_diff = min(2*perms_above_frac, 2*(1-perms_above_frac))"
   ]
  },
  {
   "cell_type": "code",
   "execution_count": null,
   "id": "faf6931a",
   "metadata": {},
   "outputs": [],
   "source": [
    "# Calculate median interSC and IQR\n",
    "matching_isc_med = np.median(isc_matching)\n",
    "nonmatch_isc_med = np.median(isc_nonmatch)\n",
    "\n",
    "matching_iqr = iqr(isc_matching)\n",
    "nonmatch_iqr = iqr(isc_nonmatch)"
   ]
  },
  {
   "cell_type": "markdown",
   "id": "078d0c04",
   "metadata": {},
   "source": [
    "## InterSC vs. Symptom Severity"
   ]
  },
  {
   "cell_type": "code",
   "execution_count": null,
   "id": "1d44c25f",
   "metadata": {},
   "outputs": [],
   "source": [
    "# Define function that correlates an interSC variable with each dimension of a symptom variable\n",
    "def corr_isc_symp(interSC_var, symp_var): \n",
    "    \n",
    "    actual_corrs = [None] * len(symptom_labels)\n",
    "    corr_p_vals = [None] * len(symptom_labels)\n",
    "    all_null_dists = [None] * len(symptom_labels)\n",
    "    \n",
    "    for i in range(len(symptom_labels)):\n",
    "        \n",
    "        which_score = symptom_labels[i]\n",
    "        null_dist = np.zeros(nPerms)\n",
    "\n",
    "        # Actual r value\n",
    "        x = symp_var[which_score]\n",
    "        y = interSC_var\n",
    "        nas = np.logical_or(np.isnan(x), np.isnan(y))\n",
    "        actual_corr = stats.spearmanr(x[~nas], y[~nas])[0]\n",
    "        actual_corrs[i] = actual_corr\n",
    "\n",
    "        # Null dist of r-values \n",
    "        for j in range(nPerms):\n",
    "            x = symp_var[which_score]\n",
    "            y = interSC_var[random.choices(range(nCohort), k = (nCohort))]\n",
    "            nas = np.logical_or(np.isnan(x), np.isnan(y))\n",
    "            null_dist[j] = stats.spearmanr(x[~nas], y[~nas])[0]\n",
    "    \n",
    "        perms_above_frac = len((null_dist[null_dist > actual_corr]) + 1) / (nPerms + 1)\n",
    "        corr_p_vals[i] = min(2*perms_above_frac, 2*(1-perms_above_frac))\n",
    "        all_null_dists[i] = null_dist\n",
    "        \n",
    "    return actual_corrs, corr_p_vals, all_null_dists"
   ]
  },
  {
   "cell_type": "code",
   "execution_count": null,
   "id": "c5a054e8",
   "metadata": {},
   "outputs": [],
   "source": [
    "# Correlate interSC with symptom severity\n",
    "ROI_rho_vals, ROI_p_vals, ROI_nulls =  corr_isc_symp(isc_matching, CAPS_data)"
   ]
  },
  {
   "cell_type": "markdown",
   "id": "7f6d6cdc",
   "metadata": {},
   "source": [
    "## Final values"
   ]
  },
  {
   "cell_type": "code",
   "execution_count": null,
   "id": "0b7804d2",
   "metadata": {},
   "outputs": [],
   "source": [
    "# Assemble final values into list\n",
    "ROI_values = [matching_isc_med, \n",
    "            matching_iqr, \n",
    "            nonmatch_isc_med, \n",
    "            nonmatch_iqr, \n",
    "            actual_diff, \n",
    "            p_val_diff]\n",
    "\n",
    "ROI_values.extend(ROI_rho_vals)\n",
    "ROI_values.extend(ROI_p_vals)\n",
    "\n",
    "ROI_value_labels = ['matching_isc_med', \n",
    "                    'matching_iqr', \n",
    "                    'nonmatch_isc_med', \n",
    "                    'nonmatch_iqr', \n",
    "                    'diff_score', \n",
    "                    'p_val_diff',\n",
    "                    'rexp_r',\n",
    "                    'avoid_numb_r',\n",
    "                    'hyp_r',\n",
    "                    'rexp_p',\n",
    "                    'avoid_numb_p',\n",
    "                    'hyp_p']"
   ]
  }
 ],
 "metadata": {
  "kernelspec": {
   "display_name": "Python 3 (ipykernel)",
   "language": "python",
   "name": "python3"
  },
  "language_info": {
   "codemirror_mode": {
    "name": "ipython",
    "version": 3
   },
   "file_extension": ".py",
   "mimetype": "text/x-python",
   "name": "python",
   "nbconvert_exporter": "python",
   "pygments_lexer": "ipython3",
   "version": "3.8.10"
  }
 },
 "nbformat": 4,
 "nbformat_minor": 5
}
