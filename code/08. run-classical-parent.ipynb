{
 "cells": [
  {
   "cell_type": "code",
   "execution_count": null,
   "id": "0d67baa4",
   "metadata": {},
   "outputs": [],
   "source": [
    "# User-defined variables\n",
    "work_dir = '/Users/Tem/Documents/naturalistic-threat-ptsd'\n",
    "npy_dir = f\"{work_dir}/data/neural-classical/masked/subcort-harvard-oxford-6mm\" #directory housing masked npy arrays\n",
    "mask_dir = f\"{work_dir}/masks/subcort-harvard-oxford\"\n",
    "hemo_lag = 4\n",
    "nPerms = 10000"
   ]
  },
  {
   "cell_type": "code",
   "execution_count": null,
   "id": "dceced44",
   "metadata": {},
   "outputs": [],
   "source": [
    "# Import packages \n",
    "import warnings\n",
    "warnings.filterwarnings(\"ignore\")\n",
    "import os\n",
    "import random\n",
    "import numpy as np\n",
    "import pandas as pd\n",
    "import seaborn as sns\n",
    "from scipy import stats\n",
    "from scipy.stats import iqr\n",
    "from datetime import datetime\n",
    "import matplotlib.pyplot as plt\n",
    "from statsmodels.stats.multitest import fdrcorrection"
   ]
  },
  {
   "cell_type": "code",
   "execution_count": null,
   "id": "ff61e221",
   "metadata": {},
   "outputs": [],
   "source": [
    "# Load and define participant data\n",
    "symptom_labels = ['Re-experiencing', 'Avoidance-Numbing', 'Hyperarousal']\n",
    "CAPS_data = pd.read_csv(f\"{work_dir}/data/subs/CAPS.csv\")\n",
    "cohort_IDs = pd.read_csv(f\"{work_dir}/data/subs/cohort_IDs.csv\")\n",
    "\n",
    "# Load ROI labels\n",
    "ROI_labels = pd.read_csv(f\"{mask_dir}/ROI-labels.csv\") #directory housing masks & labels\n",
    "\n",
    "# Define n's\n",
    "n_regions = len(ROI_labels)\n",
    "nCohort = len(cohort_IDs)"
   ]
  },
  {
   "cell_type": "code",
   "execution_count": null,
   "id": "23066298",
   "metadata": {},
   "outputs": [],
   "source": [
    "# Load event files for stimulus onsets\n",
    "all_CSminus_onsets = [None] * nCohort\n",
    "all_CSplus_onsets = [None] * nCohort\n",
    "\n",
    "for i in range(nCohort):\n",
    "    day1_onsets = pd.read_csv(f\"{work_dir}/data/task/events-classical/{cohort_IDs['subject'][i]}.csv\")\n",
    "    \n",
    "    day1_CSplus = day1_onsets[day1_onsets['trial_type'].str.contains('plus') & ~day1_onsets['trial_type'].str.contains('US')].reset_index()\n",
    "    CSplus_onsets = [list(range(day1_CSplus['onset'][i] + hemo_lag, day1_CSplus['onset'][i] + day1_CSplus['duration'][i] + hemo_lag)) for i in range(len(day1_CSplus))]\n",
    "    all_CSplus_onsets[i] = [item for sublist in CSplus_onsets for item in sublist]\n",
    "\n",
    "    day1_CSminus = day1_onsets[day1_onsets['trial_type'].str.contains('minus')].reset_index()\n",
    "    CSminus_onsets = [list(range(day1_CSminus['onset'][i] + hemo_lag, day1_CSminus['onset'][i] + day1_CSminus['duration'][i] + hemo_lag)) for i in range(len(day1_CSminus))]\n",
    "    all_CSminus_onsets[i] = [item for sublist in CSminus_onsets for item in sublist]\n",
    "    "
   ]
  },
  {
   "cell_type": "code",
   "execution_count": null,
   "id": "a2906740",
   "metadata": {},
   "outputs": [],
   "source": [
    "# Loop through ROIs to calculate interSC, classification, and correlation with symptoms using child script\n",
    "counter = 0\n",
    "for ROI_no in range(n_regions):\n",
    "    disp_name = ROI_labels['label'][ROI_no]\n",
    "    ROI_ID = ROI_labels['index'][ROI_no]\n",
    "    cROI = f\"HO_{ROI_ID}\"\n",
    "    print(f\"Running Harvard-Oxford ROI #{ROI_ID}, {ROI_labels['label'][counter]}...\")\n",
    "    startTime = datetime.now()\n",
    "    \n",
    "    %run './09. run-classical-child.ipynb'\n",
    "    ROI_values = pd.Series(ROI_values, index = ROI_value_labels)              \n",
    "    \n",
    "    if counter == 0:\n",
    "        all_ROI_values = pd.DataFrame(columns = ROI_value_labels)\n",
    "        all_ROI_values = all_ROI_values.append(ROI_values, ignore_index = True)\n",
    "    else: \n",
    "        all_ROI_values = all_ROI_values.append(ROI_values, ignore_index = True)\n",
    "        \n",
    "    print(f\"Runtime for ROI #{ROI_ID}: {datetime.now() - startTime}\\n\")    \n",
    "    counter = counter + 1"
   ]
  },
  {
   "cell_type": "code",
   "execution_count": null,
   "id": "4fb476b3",
   "metadata": {},
   "outputs": [],
   "source": [
    "# Save dataframe containing all classical threat values for all ROIs \n",
    "all_ROI_values.insert(0, 'ROI', ROI_labels['label'])\n",
    "date_string = datetime.now().strftime('%Y_%m_%d_%H_%M_%S')\n",
    "all_ROI_values.to_csv(f\"{work_dir}/data/tables/classical-multi-ROI-{nPerms}_perms-{date_string}.csv\", index = False)\n",
    "all_ROI_values"
   ]
  }
 ],
 "metadata": {
  "kernelspec": {
   "display_name": "Python 3 (ipykernel)",
   "language": "python",
   "name": "python3"
  },
  "language_info": {
   "codemirror_mode": {
    "name": "ipython",
    "version": 3
   },
   "file_extension": ".py",
   "mimetype": "text/x-python",
   "name": "python",
   "nbconvert_exporter": "python",
   "pygments_lexer": "ipython3",
   "version": "3.8.10"
  }
 },
 "nbformat": 4,
 "nbformat_minor": 5
}
