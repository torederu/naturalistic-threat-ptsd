{
 "cells": [
  {
   "cell_type": "code",
   "execution_count": null,
   "id": "0d67baa4",
   "metadata": {},
   "outputs": [],
   "source": [
    "# User-defined variables\n",
    "work_dir = '/Users/Tem/Documents/naturalistic-threat-ptsd'\n",
    "hemo_lag = 4\n",
    "nPerms = 10000\n",
    "trim_TRs = 4 #number of TRs to trim from beginning and end of naturalistic scan (separate from hemodynamic adjustment)"
   ]
  },
  {
   "cell_type": "code",
   "execution_count": null,
   "id": "dceced44",
   "metadata": {},
   "outputs": [],
   "source": [
    "# Import packages \n",
    "import warnings\n",
    "warnings.filterwarnings(\"ignore\")\n",
    "import os\n",
    "import random\n",
    "import numpy as np\n",
    "import pandas as pd\n",
    "import seaborn as sns\n",
    "from scipy import stats\n",
    "from scipy.stats import iqr\n",
    "from datetime import datetime\n",
    "import matplotlib.pyplot as plt\n",
    "from matplotlib import gridspec\n",
    "from statsmodels.stats.multitest import fdrcorrection"
   ]
  },
  {
   "cell_type": "code",
   "execution_count": null,
   "id": "80c983f5",
   "metadata": {},
   "outputs": [],
   "source": [
    "# Create directory to house comparison figures\n",
    "date_string = datetime.now().strftime('%Y-%m-%d_%H-%M-%S')\n",
    "comparison_fig_dir = f\"{work_dir}/data/figures/comparison-figs-{date_string}\"\n",
    "os.makedirs(comparison_fig_dir)"
   ]
  },
  {
   "cell_type": "code",
   "execution_count": null,
   "id": "813da9ab",
   "metadata": {},
   "outputs": [],
   "source": [
    "# Load movie metadata \n",
    "movie_metadata = pd.read_csv(f\"{work_dir}/data/task/stim-metadata-naturalistic.csv\") \n",
    "movie_metadata['Start_TR'][0] = movie_metadata['Start_TR'][0] + trim_TRs\n",
    "movie_metadata['Stop_TR'][len(movie_metadata) - 1] = movie_metadata['Stop_TR'][len(movie_metadata) - 1] - trim_TRs\n",
    "movie_metadata['Scene_Length'] = movie_metadata['Stop_TR'] - movie_metadata['Start_TR']\n",
    "\n",
    "nScenes = len(movie_metadata)\n",
    "movie_TRs = [list(range(movie_metadata['Start_TR'][i], movie_metadata['Stop_TR'][i])) for i in range(0, nScenes)]"
   ]
  },
  {
   "cell_type": "code",
   "execution_count": null,
   "id": "ff61e221",
   "metadata": {},
   "outputs": [],
   "source": [
    "# Import symptom data\n",
    "CAPS_data = pd.read_csv(f\"{work_dir}/data/subs/CAPS.csv\")\n",
    "cohort_IDs = pd.read_csv(f\"{work_dir}/data/subs/cohort_IDs.csv\")\n",
    "nCohort = len(cohort_IDs)\n",
    "symptom_labels = ['Hyperarousal']"
   ]
  },
  {
   "cell_type": "markdown",
   "id": "f407f68b",
   "metadata": {},
   "source": [
    "## Left Amygdala Classical InterSC"
   ]
  },
  {
   "cell_type": "code",
   "execution_count": null,
   "id": "23066298",
   "metadata": {},
   "outputs": [],
   "source": [
    "# Load event files for classical stimulus onsets\n",
    "all_CSminus_onsets = [None] * nCohort\n",
    "all_CSplus_onsets = [None] * nCohort\n",
    "\n",
    "for i in range(nCohort):\n",
    "    day1_onsets = pd.read_csv(f\"{work_dir}/data/task/events-classical/{cohort_IDs['subject'][i]}.csv\")\n",
    "    \n",
    "    day1_CSplus = day1_onsets[day1_onsets['trial_type'].str.contains('plus') & ~day1_onsets['trial_type'].str.contains('US')].reset_index()\n",
    "    CSplus_onsets = [list(range(day1_CSplus['onset'][i] + hemo_lag, day1_CSplus['onset'][i] + day1_CSplus['duration'][i] + hemo_lag)) for i in range(len(day1_CSplus))]\n",
    "    all_CSplus_onsets[i] = [item for sublist in CSplus_onsets for item in sublist]\n",
    "\n",
    "    day1_CSminus = day1_onsets[day1_onsets['trial_type'].str.contains('minus')].reset_index()\n",
    "    CSminus_onsets = [list(range(day1_CSminus['onset'][i] + hemo_lag, day1_CSminus['onset'][i] + day1_CSminus['duration'][i] + hemo_lag)) for i in range(len(day1_CSminus))]\n",
    "    all_CSminus_onsets[i] = [item for sublist in CSminus_onsets for item in sublist]\n",
    "    "
   ]
  },
  {
   "cell_type": "code",
   "execution_count": null,
   "id": "610ebb98",
   "metadata": {},
   "outputs": [],
   "source": [
    "# Calculate classical interSC \n",
    "classical_data = [None] * nCohort\n",
    "\n",
    "for i in range(nCohort):\n",
    "    classical_data[i] = np.load(work_dir +\n",
    "                                '/data/neural-classical/amygdala-harvard-oxford-6mm/HO_1_6mm/' +\n",
    "                                cohort_IDs['subject'][i] + '_6mm.npy')\n",
    "\n",
    "nVoxels = classical_data[0].shape[0]\n",
    "classical_patterns = np.zeros((nVoxels, 2, nCohort))\n",
    "\n",
    "for i in range(nCohort):\n",
    "    classical_patterns[:, 0, i] = np.mean(classical_data[i][:, all_CSminus_onsets[i]], axis = 1)\n",
    "    classical_patterns[:, 1, i] = np.mean(classical_data[i][:, all_CSplus_onsets[i]], axis = 1)\n",
    "    \n",
    "subs = np.arange(0, nCohort)\n",
    "classical_heldout = np.zeros_like(classical_patterns)\n",
    "    \n",
    "for i in subs:\n",
    "    sel_subs = subs[subs!= i]\n",
    "    classical_heldout[:, :, i] = np.mean(classical_patterns[:, :, sel_subs], axis = 2)\n",
    "    \n",
    "all_mats = np.zeros((2, 2, nCohort))\n",
    "LA_interSC = np.zeros((2, nCohort))\n",
    "\n",
    "for i in range(nCohort):\n",
    "    sub_mat = np.corrcoef(classical_patterns[:,:,i], classical_heldout[:,:,i], rowvar = False)\n",
    "    sub_mat = sub_mat[:2, 2:]\n",
    "    all_mats[:,:,i] = sub_mat\n",
    "    LA_interSC[:, i] = np.diagonal(sub_mat)\n",
    "    \n",
    "# Calculate and print median interSC values\n",
    "threat_threat_isc = np.zeros(nCohort)\n",
    "for i in range(nCohort):\n",
    "    threat_threat_isc[i] = all_mats[:,:,i][1,1]\n",
    "threat_threat_med = np.median(threat_threat_isc)\n",
    "print(f\"median classical interSC: {threat_threat_med}\")"
   ]
  },
  {
   "cell_type": "markdown",
   "id": "b0f450a6",
   "metadata": {},
   "source": [
    "## Left Amygdala Naturalistic InterSC"
   ]
  },
  {
   "cell_type": "code",
   "execution_count": null,
   "id": "fc117633",
   "metadata": {},
   "outputs": [],
   "source": [
    "# Define function that calculates spatial interSC for naturalistic data\n",
    "def calc_spatial_interSC(group_data):\n",
    "\n",
    "    nGroup = group_data.shape[2]\n",
    "    \n",
    "    group_ByScene = np.zeros((nVoxels, nScenes, nGroup))\n",
    "\n",
    "    for i in range(0, nScenes):\n",
    "        scene_TRs = (movie_TRs[i])\n",
    "        scene_TRs = [x - 1 for x in scene_TRs] \n",
    "        group_ByScene[:,i,:] = np.mean(group_data[:, scene_TRs, :], axis = 1)\n",
    "    \n",
    "    subs = np.arange(0, nGroup)\n",
    "    group_heldout = np.zeros((nVoxels, nScenes, nGroup))\n",
    "    \n",
    "    for i in subs:\n",
    "        sel_subs = subs[subs!= i]\n",
    "        group_heldout[:, :, i] = np.mean(group_ByScene[:, :, sel_subs], axis = 2)\n",
    "        \n",
    "    full_interSC_group = np.zeros((nScenes, nGroup))\n",
    "    group_median_nonmatch = np.zeros(nGroup)\n",
    "\n",
    "    diag_mask = np.ones((nScenes, nScenes), dtype = bool)\n",
    "    np.fill_diagonal(diag_mask, False)\n",
    "    div_by = len(diag_mask)\n",
    "\n",
    "    for i in range(nGroup):\n",
    "        sub_mat = np.corrcoef(group_ByScene[:,:,i], group_heldout[:,:,i], rowvar = False)\n",
    "        sub_mat = sub_mat[div_by:, :div_by]\n",
    "        full_interSC_group[:, i] = np.diagonal(sub_mat)\n",
    "        group_median_nonmatch[i] = np.median(sub_mat[diag_mask])\n",
    "    \n",
    "    return full_interSC_group, group_ByScene, group_median_nonmatch"
   ]
  },
  {
   "cell_type": "code",
   "execution_count": null,
   "id": "10651250",
   "metadata": {},
   "outputs": [],
   "source": [
    "# Load left amygdala naturalistic data\n",
    "data_dir = f\"{work_dir}/data/neural-naturalistic/amygdala-harvard-oxford-6mm\"\n",
    "list_LA_data = [None] * nCohort\n",
    "for i in range(len(cohort_IDs)):\n",
    "    list_LA_data[i] = np.load(f\"{data_dir}/HO_1_6mm/{cohort_IDs['subject'][i]}_6mm.npy\")\n",
    "LA_data = np.stack(list_LA_data, axis = 2)\n",
    "\n",
    "# Calculate naturalistic interSC \n",
    "nVoxels = LA_data.shape[0]\n",
    "LA_full_interSC, LA_ByScene, LA_nonmatch = calc_spatial_interSC(LA_data)\n",
    "LA_interSC = np.median(LA_full_interSC, axis = 0)\n",
    "print(f\"median naturalistic interSC: {np.median(LA_interSC)}\")"
   ]
  },
  {
   "cell_type": "markdown",
   "id": "da2900e6",
   "metadata": {},
   "source": [
    "## Naturalistic vs. Classical Spearman's coefficients"
   ]
  },
  {
   "cell_type": "code",
   "execution_count": null,
   "id": "0301f368",
   "metadata": {},
   "outputs": [],
   "source": [
    "# Define function that correlates an interSC variable with each dimension of a symptom variable\n",
    "def corr_isc_symp(interSC_var, symp_var): \n",
    "    actual_corrs = [None] * len(symptom_labels)\n",
    "    corr_p_vals = [None] * len(symptom_labels)\n",
    "    all_null_dists = [None] * len(symptom_labels)\n",
    "    \n",
    "    for i in range(len(symptom_labels)):\n",
    "        which_score = symptom_labels[i]\n",
    "        null_dist = np.zeros(nPerms)\n",
    "\n",
    "        # Actual r value\n",
    "        x = symp_var[which_score]\n",
    "        y = interSC_var\n",
    "        actual_corr = stats.spearmanr(x, y)[0]\n",
    "        actual_corrs[i] = actual_corr\n",
    "\n",
    "        # Null dist of r-values \n",
    "        for j in range(nPerms):\n",
    "            x = symp_var[which_score]\n",
    "            y = interSC_var[random.choices(range(nCohort), k = (nCohort))]\n",
    "            null_dist[j] = stats.spearmanr(x, y)[0]\n",
    "    \n",
    "        perms_above_frac = len((null_dist[null_dist > actual_corr]) + 1) / (nPerms + 1)\n",
    "        corr_p_vals[i] = min(2 * perms_above_frac, 2 * (1 - perms_above_frac))\n",
    "        all_null_dists[i] = null_dist\n",
    "        \n",
    "    return actual_corrs, corr_p_vals, all_null_dists"
   ]
  },
  {
   "cell_type": "code",
   "execution_count": null,
   "id": "b4b27465",
   "metadata": {},
   "outputs": [],
   "source": [
    "classical_rho, classical_p_val, classical_nulls =  corr_isc_symp(threat_threat_isc, CAPS_data)\n",
    "naturalistic_rho, naturalistic_p_val, naturalistic_nulls =  corr_isc_symp(LA_interSC, CAPS_data)\n",
    "\n",
    "actual_diff = naturalistic_rho[0] - classical_rho[0]\n",
    "null_dist = naturalistic_nulls[0] - classical_nulls[0]\n",
    "\n",
    "perms_above_frac = len((null_dist[null_dist > actual_diff]) + 1) / (nPerms + 1)\n",
    "p = min(perms_above_frac, (1 - perms_above_frac))"
   ]
  },
  {
   "cell_type": "code",
   "execution_count": null,
   "id": "00febe6e",
   "metadata": {},
   "outputs": [],
   "source": [
    "f = plt.figure(figsize=(5, 6))\n",
    "x = [0.25, 0.75]\n",
    "y = [naturalistic_rho[0], classical_rho[0]]\n",
    "sns.barplot(x = x, y = y, color = \"#8c0e88\")\n",
    "plt.xticks([])\n",
    "plt.yticks(fontsize = 16)\n",
    "plt.ylabel(f\"Pearson's r \\nInterSC vs. Hyperarousal\\n\", fontsize = 16)\n",
    "sns.despine(top = False, bottom = True)\n",
    "plt.subplots_adjust(left = 0.15)\n",
    "plt.savefig(f\"{comparison_fig_dir}/barplots.png\")"
   ]
  },
  {
   "cell_type": "code",
   "execution_count": null,
   "id": "a09e5232",
   "metadata": {},
   "outputs": [],
   "source": [
    "f = plt.figure(figsize=(9, 5))\n",
    "plt.xticks(fontsize = 16)\n",
    "plt.yticks(fontsize = 16)\n",
    "sns.histplot(data = null_dist, color = '0.25', element = \"step\", fill = False, linewidth = 3)\n",
    "plt.xlabel(f\"\\np = {np.round(p, 5)}\", fontsize = 12)\n",
    "plt.axvline(actual_diff, color = '#8c0e88', linewidth = 2.5)\n",
    "plt.axvline(np.mean(null_dist), color = '0.5', linestyle = 'dashed', linewidth = 2)\n",
    "plt.ylabel(None)\n",
    "sns.despine()\n",
    "plt.savefig(f\"{comparison_fig_dir}/histogram.png\")"
   ]
  }
 ],
 "metadata": {
  "kernelspec": {
   "display_name": "Python 3 (ipykernel)",
   "language": "python",
   "name": "python3"
  },
  "language_info": {
   "codemirror_mode": {
    "name": "ipython",
    "version": 3
   },
   "file_extension": ".py",
   "mimetype": "text/x-python",
   "name": "python",
   "nbconvert_exporter": "python",
   "pygments_lexer": "ipython3",
   "version": "3.8.10"
  }
 },
 "nbformat": 4,
 "nbformat_minor": 5
}
